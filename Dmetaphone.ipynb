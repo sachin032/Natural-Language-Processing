{
 "cells": [
  {
   "cell_type": "code",
   "execution_count": 1,
   "metadata": {
    "ExecuteTime": {
     "end_time": "2020-03-17T06:25:10.759476Z",
     "start_time": "2020-03-17T06:25:10.755430Z"
    }
   },
   "outputs": [],
   "source": [
    "import fuzzy"
   ]
  },
  {
   "cell_type": "code",
   "execution_count": 2,
   "metadata": {
    "ExecuteTime": {
     "end_time": "2020-03-17T06:25:10.768375Z",
     "start_time": "2020-03-17T06:25:10.761203Z"
    },
    "code_folding": []
   },
   "outputs": [],
   "source": [
    "# Median of reverse indexes\n",
    "q2_rev_index_dict = {0:0, 1:0, 2:1, 3:1, 4:1, 5:2, 6:2, 7:3, 8:3, 9:3, 10:3, 11:3}\n",
    "\n",
    "def getReverseIndex (str1):\n",
    "    debugYesLocal = True\n",
    "    \n",
    "    strList = str1.split()\n",
    "    strLen = len(strList)\n",
    "    \n",
    "    if strLen > 11:\n",
    "        return q2_rev_index_dict[11]\n",
    "\n",
    "    else:\n",
    "        return q2_rev_index_dict[strLen]\n",
    "\n",
    "# Function to get Topic-Word removed from 'Business Name'\n",
    "def getPreOverlapTopicWordsRemovedBName (str1, remove=1):\n",
    "    \n",
    "    debugYesLocal = True\n",
    "    if debugYesLocal: \n",
    "        print (\"Original String : \", str1)\n",
    "        \n",
    "    # Lower case the string\n",
    "    preProcessedStr = str1.lower()\n",
    "    \n",
    "    # Remove all except alphabets, numbers and space\n",
    "    whitelist = set('abcdefghijklmnopqrstuvwxyz ABCDEFGHIJKLMNOPQRSTUVWXYZ0123456789')\n",
    "    preProcessedStr = ''.join(filter(whitelist.__contains__, preProcessedStr))    \n",
    "    \n",
    "    if debugYesLocal:\n",
    "        print (\"preProcessedStr : \", preProcessedStr)\n",
    "    \n",
    "    if remove:\n",
    "        n = getReverseIndex (preProcessedStr)\n",
    "        if debugYesLocal : print(\"REV SPLIT INDEX : \", n)\n",
    "        strList = preProcessedStr.split()\n",
    "        revisedList = strList[:len(strList)-n]\n",
    "        revisedStr = \" \".join (revisedList)\n",
    "        return revisedStr\n",
    "    \n",
    "    else:\n",
    "        return preProcessedStr\n"
   ]
  },
  {
   "cell_type": "code",
   "execution_count": 3,
   "metadata": {
    "ExecuteTime": {
     "end_time": "2020-03-17T06:25:10.785927Z",
     "start_time": "2020-03-17T06:25:10.769776Z"
    },
    "code_folding": []
   },
   "outputs": [
    {
     "name": "stdout",
     "output_type": "stream",
     "text": [
      "Original String :  Johnson and Johnson India Pvt Ltd\n",
      "preProcessedStr :  johnson and johnson india pvt ltd\n",
      "REV SPLIT INDEX :  2\n",
      "Original String :  Johnson coporations\n",
      "preProcessedStr :  johnson coporations\n",
      "REV SPLIT INDEX :  1\n"
     ]
    },
    {
     "data": {
      "text/plain": [
       "0.3333333333333333"
      ]
     },
     "execution_count": 3,
     "metadata": {},
     "output_type": "execute_result"
    }
   ],
   "source": [
    "\n",
    "def dmetaphone(str1, str2):\n",
    "    score=0\n",
    "    try:\n",
    "        dmeta = fuzzy.DMetaphone()\n",
    "        \n",
    "        str1 = getPreOverlapTopicWordsRemovedBName(str1)\n",
    "        str2 = getPreOverlapTopicWordsRemovedBName(str2)\n",
    "\n",
    "      \n",
    "        total_length = len(set(str1.split()))+len(set(str2.split()))\n",
    "      \n",
    "        L1 = set(str1.split())\n",
    "        L2 = set(str2.split())\n",
    "        \n",
    "        exact_match_set = L1.intersection(L2)\n",
    "        exact_match_count = len(exact_match_set)\n",
    "\n",
    "        L1_difference_set = L1.difference(exact_match_set)\n",
    "        L2_difference_set = L2.difference(exact_match_set)\n",
    "      \n",
    "        list1 = []\n",
    "        list2 = []\n",
    "        \n",
    "        dmeta_count = 0\n",
    "      \n",
    "        for item in L1_difference_set:\n",
    "            for element in L2_difference_set:\n",
    "                list1 = list1 + list(filter(None.__ne__, dmeta(item)))\n",
    "                list2 = list2 + list(filter(None.__ne__, dmeta(element)))\n",
    "                s1 = set(list1)\n",
    "                s2 = set(list2)\n",
    "\n",
    "                if len(s1.intersection(s2)) > 0:\n",
    "                      dmeta_count += 1\n",
    "\n",
    "        denominator = (total_length-(exact_match_count+dmeta_count))\n",
    "        score = (exact_match_count + dmeta_count)/ (total_length-(exact_match_count+dmeta_count))\n",
    "    except:\n",
    "        pass\n",
    "    \n",
    "    return score\n",
    "\n",
    "# str1 = \"Riversand india pvt. ltd.\"\n",
    "# str2 = \"Riversand Pvt. ltd.\"\n",
    "\n",
    "str1 = \"Johnson and Johnson India Pvt Ltd\"\n",
    "str2 = \"Johnson coporations\"\n",
    "\n",
    "dmetaphone(str1,str2)"
   ]
  },
  {
   "cell_type": "code",
   "execution_count": 4,
   "metadata": {
    "ExecuteTime": {
     "end_time": "2020-03-17T06:25:10.805974Z",
     "start_time": "2020-03-17T06:25:10.787317Z"
    },
    "code_folding": [
     0
    ]
   },
   "outputs": [
    {
     "data": {
      "text/plain": [
       "0.16666666666666666"
      ]
     },
     "execution_count": 4,
     "metadata": {},
     "output_type": "execute_result"
    }
   ],
   "source": [
    "def dmetaphone(str1, str2):\n",
    "    score=0\n",
    "    try:\n",
    "        dmeta = fuzzy.DMetaphone()\n",
    "\n",
    "        str1 = str.lower(str1)\n",
    "        str2 = str.lower(str2)\n",
    "      \n",
    "        total_length = len(set(str1.split()))+len(set(str2.split()))\n",
    "      \n",
    "        L1 = set(str1.split())\n",
    "        L2 = set(str2.split())\n",
    "        \n",
    "        exact_match_set = L1.intersection(L2)\n",
    "        exact_match_count = len(exact_match_set)\n",
    "\n",
    "        L1_difference_set = L1.difference(exact_match_set)\n",
    "        L2_difference_set = L2.difference(exact_match_set)\n",
    "      \n",
    "        list1 = []\n",
    "        list2 = []\n",
    "        \n",
    "        dmeta_count = 0\n",
    "      \n",
    "        for item in L1_difference_set:\n",
    "            for element in L2_difference_set:\n",
    "                list1 = list1 + list(filter(None.__ne__, dmeta(item)))\n",
    "                list2 = list2 + list(filter(None.__ne__, dmeta(element)))\n",
    "                s1 = set(list1)\n",
    "                s2 = set(list2)\n",
    "\n",
    "                if len(s1.intersection(s2)) > 0:\n",
    "                      dmeta_count += 1\n",
    "\n",
    "        denominator = (total_length-(exact_match_count+dmeta_count))\n",
    "        score = (exact_match_count + dmeta_count)/ (total_length-(exact_match_count+dmeta_count))\n",
    "    except:\n",
    "        pass\n",
    "    \n",
    "    return score\n",
    "\n",
    "str1 = \"Johnson and Johnson India Pvt Ltd\"\n",
    "str2 = \"Johnson incoporations\"\n",
    "\n",
    "dmetaphone(str1,str2)"
   ]
  },
  {
   "cell_type": "code",
   "execution_count": 8,
   "metadata": {
    "ExecuteTime": {
     "end_time": "2020-03-17T06:26:30.412724Z",
     "start_time": "2020-03-17T06:26:30.374161Z"
    },
    "code_folding": [
     0
    ]
   },
   "outputs": [
    {
     "name": "stdout",
     "output_type": "stream",
     "text": [
      "____________________________________________________________\n",
      "String1   ::  johnson and johnson company\n",
      "String2   ::  jonson and jonson company\n",
      "____________________________________________________________\n",
      "String1  Length ::  4\n",
      "String2  Length ::  4\n",
      "____________________________________________________________\n",
      "____________________________________________________________\n",
      "Total Length ::  6\n",
      "____________________________________________________________\n",
      "String1  set ::  {'and', 'company', 'johnson'}\n",
      "String2  set ::  {'and', 'company', 'jonson'}\n",
      "____________________________________________________________\n",
      "Exact match set:: {'and', 'company'}\n",
      "____________________________________________________________\n",
      "Post removal exat match set from L1 : {'johnson'}\n",
      "Post removal exat match set from L2 : {'jonson'}\n",
      "____________________________________________________________\n",
      "Exact_Match_Count ::  2\n",
      "Dmeta_Count ::  1\n",
      "____________________________________________________________\n",
      "Denominator ::  3\n",
      "____________________________________________________________\n",
      "Demeta count:: 1\n",
      "____________________________________________________________\n",
      "Score 1.0\n",
      "____________________________________________________________\n",
      "____________________________________________________________\n",
      "String1   ::  jonson and jonson company\n",
      "String2   ::  johnson and johnson company\n",
      "____________________________________________________________\n",
      "String1  Length ::  4\n",
      "String2  Length ::  4\n",
      "____________________________________________________________\n",
      "____________________________________________________________\n",
      "Total Length ::  6\n",
      "____________________________________________________________\n",
      "String1  set ::  {'and', 'company', 'jonson'}\n",
      "String2  set ::  {'and', 'company', 'johnson'}\n",
      "____________________________________________________________\n",
      "Exact match set:: {'and', 'company'}\n",
      "____________________________________________________________\n",
      "Post removal exat match set from L1 : {'jonson'}\n",
      "Post removal exat match set from L2 : {'johnson'}\n",
      "____________________________________________________________\n",
      "Exact_Match_Count ::  2\n",
      "Dmeta_Count ::  1\n",
      "____________________________________________________________\n",
      "Denominator ::  3\n",
      "____________________________________________________________\n",
      "Demeta count:: 1\n",
      "____________________________________________________________\n",
      "Score 1.0\n",
      "____________________________________________________________\n",
      "Score1:: 1.0\n",
      "Score2:: 1.0\n"
     ]
    }
   ],
   "source": [
    "def dmetaphone(str1, str2):\n",
    "    dmeta = fuzzy.DMetaphone()\n",
    "    \n",
    "#     str1 = getPreOverlapTopicWordsRemovedBName(str1)\n",
    "#     str2 = getPreOverlapTopicWordsRemovedBName(str2)\n",
    "    \n",
    "    str1 = str.lower(str1)\n",
    "    str2 = str.lower(str2)\n",
    "\n",
    "    print(\"____________________________________________________________\")\n",
    "    print(\"String1   :: \", str1)\n",
    "    print(\"String2   :: \", str2)\n",
    "    print(\"____________________________________________________________\")\n",
    "    print(\"String1  Length :: \", len(str1.split()))\n",
    "    print(\"String2  Length :: \", len(str2.split()))\n",
    "    print(\"____________________________________________________________\")\n",
    "\n",
    "    total_length = len(set(str1.split())) + len(set(str2.split()))\n",
    "\n",
    "    print(\"____________________________________________________________\")\n",
    "    print(\"Total Length :: \", total_length)\n",
    "\n",
    "    L1 = set(str1.split())\n",
    "    L2 = set(str2.split())\n",
    "\n",
    "    print(\"____________________________________________________________\")\n",
    "    print(\"String1  set :: \", L1)\n",
    "    print(\"String2  set :: \", L2)\n",
    "\n",
    "    exact_match_set = L1.intersection(L2)\n",
    "    exact_match_count = len(exact_match_set)\n",
    "\n",
    "    print(\"____________________________________________________________\")\n",
    "    print(\"Exact match set::\", exact_match_set)\n",
    "\n",
    "    L1_difference_set = L1.difference(exact_match_set)\n",
    "    L2_difference_set = L2.difference(exact_match_set)\n",
    "\n",
    "    print(\"____________________________________________________________\")\n",
    "    print(\"Post removal exat match set from L1 :\", L1_difference_set)\n",
    "    print(\"Post removal exat match set from L2 :\", L2_difference_set)\n",
    "\n",
    "    list1 = []\n",
    "    list2 = []\n",
    "\n",
    "    dmeta_count = 0\n",
    "\n",
    "    for item in L1_difference_set:\n",
    "        for element in L2_difference_set:\n",
    "            list1 = list(filter(None.__ne__, dmeta(item)))\n",
    "            list2 = list(filter(None.__ne__, dmeta(element)))\n",
    "            s1 = set(list1)\n",
    "            s2 = set(list2)\n",
    "\n",
    "            if len(s1.intersection(s2)) > 0:\n",
    "                dmeta_count += 1\n",
    "    print(\"____________________________________________________________\")\n",
    "    print(\"Exact_Match_Count :: \", exact_match_count)\n",
    "    print(\"Dmeta_Count :: \", dmeta_count)\n",
    "\n",
    "    denominator = (total_length - (exact_match_count + dmeta_count))\n",
    "\n",
    "    print(\"____________________________________________________________\")\n",
    "    print(\"Denominator :: \", denominator)\n",
    "    print(\"____________________________________________________________\")\n",
    "    print(\"Demeta count::\", dmeta_count)\n",
    "    score = (exact_match_count +\n",
    "             dmeta_count) / (total_length - (exact_match_count + dmeta_count))\n",
    "    print(\"____________________________________________________________\")\n",
    "    print(\"Score\",score)\n",
    "\n",
    "    return score\n",
    "\n",
    "str1 = \"Johnson and Johnson Company\"\n",
    "str2 = \"Jonson and Jonson company\"\n",
    "\n",
    "# str1 = 'Johnson and Johnson Company'\n",
    "# str2 = 'JoHnson Ltd. company'\n",
    "\n",
    "score1 = dmetaphone(str1, str2)\n",
    "print(\"____________________________________________________________\")\n",
    "score2 = dmetaphone(str2, str1)\n",
    "print(\"____________________________________________________________\")\n",
    "print(\"Score1::\", score1)\n",
    "print(\"Score2::\", score2)"
   ]
  },
  {
   "cell_type": "code",
   "execution_count": 7,
   "metadata": {
    "ExecuteTime": {
     "end_time": "2020-03-17T06:26:02.527494Z",
     "start_time": "2020-03-17T06:26:02.481170Z"
    },
    "code_folding": [
     0,
     25
    ]
   },
   "outputs": [
    {
     "name": "stdout",
     "output_type": "stream",
     "text": [
      "i:: india\n",
      "j:: india\n",
      "preProcessedStr_1 ['riversan', 'pvt', 'ltd']\n",
      "preProcessedStr_2 ['riversand', 'pvt', 'ltd']\n",
      "*******************\n",
      "i:: pvt\n",
      "j:: pvt\n",
      "preProcessedStr_1 ['riversan', 'ltd']\n",
      "preProcessedStr_2 ['riversand', 'ltd']\n",
      "*******************\n",
      "i:: ltd\n",
      "j:: ltd\n",
      "preProcessedStr_1 ['riversan']\n",
      "preProcessedStr_2 ['riversand']\n",
      "*******************\n"
     ]
    },
    {
     "data": {
      "text/plain": [
       "0.1875"
      ]
     },
     "execution_count": 7,
     "metadata": {},
     "output_type": "execute_result"
    }
   ],
   "source": [
    "def fibonacciGenerator(strLength):\n",
    "    '''\n",
    "    This method would generate a Fibonacci list.\n",
    "    '''\n",
    "    fibonacciList = []\n",
    "    nterms = strLength\n",
    "\n",
    "    # first two terms\n",
    "    n1, n2 = 1,2\n",
    "    count = 0\n",
    "     \n",
    "    # check if the number of terms is valid\n",
    "    if nterms == 1:\n",
    "        fibonacciList.append(n1)\n",
    "    else:\n",
    "        while count < nterms:\n",
    "            fibonacciList.append(n1)\n",
    "            nth = n1 + n2\n",
    "            # update values\n",
    "            n1 = n2\n",
    "            n2 = nth\n",
    "            count += 1\n",
    "            \n",
    "    return fibonacciList\n",
    "\n",
    "def distortionMeter(str1,str2):\n",
    "    '''\n",
    "    This method would measure the similarity between two strings on the basis ofdistortion/noise \n",
    "    factor they contain within.\n",
    "    '''\n",
    "    \n",
    "    if(len(str1.split())>=len(str2.split())):\n",
    "        pass\n",
    "    else:\n",
    "        str1,str2 = str2,str1\n",
    "    \n",
    "    #Remove all except alphabets, numbers and space\n",
    "    whitelist = set('abcdefghijklmnopqrstuvwxyz ABCDEFGHIJKLMNOPQRSTUVWXYZ0123456789')\n",
    "    preProcessedStr_1 = (''.join(filter(whitelist.__contains__, str1.lower()))).split()\n",
    "    preProcessedStr_2 = (''.join(filter(whitelist.__contains__, str2.lower()))).split()   \n",
    "    \n",
    "    resultant_score = 0\n",
    "    denominator_score = 0\n",
    "    \n",
    "    fibonacciList = fibonacciGenerator(len(str1))    \n",
    "\n",
    "    for i in preProcessedStr_2.copy():\n",
    "        for j in preProcessedStr_1.copy():\n",
    "            if i == j:\n",
    "                print(\"i::\",i)\n",
    "                print(\"j::\",j)\n",
    "                \n",
    "                elementIndex = (preProcessedStr_2.index(j))\n",
    "                resultant_score += (1/fibonacciList[elementIndex])**2\n",
    "                \n",
    "                preProcessedStr_1.remove(i)\n",
    "                preProcessedStr_2.remove(j)\n",
    "                \n",
    "                print(\"preProcessedStr_1\",preProcessedStr_1)\n",
    "                print(\"preProcessedStr_2\",preProcessedStr_2)\n",
    "                print(\"*******************\")\n",
    "\n",
    "        denominator_score +=1\n",
    "        \n",
    "    return resultant_score/denominator_score\n",
    "\n",
    "##############################################\n",
    "\n",
    "# str1 = \"Tata consultancy India Pvt Ltd.\"\n",
    "# str2 = \"Tata motors corporations\"\n",
    "\n",
    "str1 = \"Riversan India Pvt. Ltd.\"\n",
    "str2 = \"Riversand india Pvt. Ltd.\"\n",
    "\n",
    "# str2 = \"Tata consultancy Ltd.\"\n",
    "\n",
    "distortionMeter(str1,str2)"
   ]
  }
 ],
 "metadata": {
  "kernelspec": {
   "display_name": "Python 3",
   "language": "python",
   "name": "python3"
  },
  "language_info": {
   "codemirror_mode": {
    "name": "ipython",
    "version": 3
   },
   "file_extension": ".py",
   "mimetype": "text/x-python",
   "name": "python",
   "nbconvert_exporter": "python",
   "pygments_lexer": "ipython3",
   "version": "3.7.4"
  },
  "toc": {
   "base_numbering": 1,
   "nav_menu": {},
   "number_sections": true,
   "sideBar": true,
   "skip_h1_title": false,
   "title_cell": "Table of Contents",
   "title_sidebar": "Contents",
   "toc_cell": false,
   "toc_position": {},
   "toc_section_display": true,
   "toc_window_display": false
  },
  "varInspector": {
   "cols": {
    "lenName": 16,
    "lenType": 16,
    "lenVar": 40
   },
   "kernels_config": {
    "python": {
     "delete_cmd_postfix": "",
     "delete_cmd_prefix": "del ",
     "library": "var_list.py",
     "varRefreshCmd": "print(var_dic_list())"
    },
    "r": {
     "delete_cmd_postfix": ") ",
     "delete_cmd_prefix": "rm(",
     "library": "var_list.r",
     "varRefreshCmd": "cat(var_dic_list()) "
    }
   },
   "types_to_exclude": [
    "module",
    "function",
    "builtin_function_or_method",
    "instance",
    "_Feature"
   ],
   "window_display": false
  }
 },
 "nbformat": 4,
 "nbformat_minor": 2
}
