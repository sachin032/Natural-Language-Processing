{
 "cells": [
  {
   "cell_type": "code",
   "execution_count": null,
   "metadata": {},
   "outputs": [],
   "source": [
    "import fuzzy"
   ]
  },
  {
   "cell_type": "code",
   "execution_count": 1,
   "metadata": {
    "ExecuteTime": {
     "end_time": "2020-03-11T05:58:59.026258Z",
     "start_time": "2020-03-11T05:58:58.987935Z"
    },
    "code_folding": [
     0
    ]
   },
   "outputs": [
    {
     "data": {
      "text/plain": [
       "0"
      ]
     },
     "execution_count": 1,
     "metadata": {},
     "output_type": "execute_result"
    }
   ],
   "source": [
    "def dmetaphone_2(str1, str2):\n",
    "    score=0\n",
    "    try:\n",
    "        dmeta = fuzzy.DMetaphone()\n",
    "        str1 = str.lower(str1)\n",
    "        str2 = str.lower(str2)\n",
    "      \n",
    "        total_length = len(set(str1.split()))+len(set(str2.split()))\n",
    "      \n",
    "        L1 = set(str1.split())\n",
    "        L2 = set(str2.split())\n",
    "        \n",
    "        exact_match_set = L1.intersection(L2)\n",
    "        exact_match_count = len(exact_match_set)\n",
    "\n",
    "        L1_difference_set = L1.difference(exact_match_set)\n",
    "        L2_difference_set = L2.difference(exact_match_set)\n",
    "      \n",
    "        list1 = []\n",
    "        list2 = []\n",
    "        \n",
    "        dmeta_count = 0\n",
    "      \n",
    "        for item in L1_difference_set:\n",
    "            for element in L2_difference_set:\n",
    "                list1 = list1 + list(filter(None.__ne__, dmeta(item)))\n",
    "                list2 = list2 + list(filter(None.__ne__, dmeta(element)))\n",
    "                s1 = set(list1)\n",
    "                s2 = set(list2)\n",
    "\n",
    "                if len(s1.intersection(s2)) > 0:\n",
    "                      dmeta_count += 1\n",
    "\n",
    "        denominator = (total_length-(exact_match_count+dmeta_count))\n",
    "        score = (exact_match_count + dmeta_count)/ (total_length-(exact_match_count+dmeta_count))\n",
    "    except:\n",
    "        pass\n",
    "    \n",
    "    return score\n",
    "\n",
    "str1 = \"Johnson and Johnson Company\"\n",
    "str2 = \"Johnson and company\"\n",
    "dmetaphone_2(str1,str2)"
   ]
  },
  {
   "cell_type": "code",
   "execution_count": 2,
   "metadata": {
    "ExecuteTime": {
     "end_time": "2020-03-11T05:59:03.431774Z",
     "start_time": "2020-03-11T05:59:03.391854Z"
    },
    "code_folding": [
     0
    ]
   },
   "outputs": [
    {
     "data": {
      "text/plain": [
       "-190"
      ]
     },
     "execution_count": 2,
     "metadata": {},
     "output_type": "execute_result"
    }
   ],
   "source": [
    "#Feb 28th Sachin Kumar Mishra  Flaw is Total length is without removal of duplicates\n",
    "def dmetaphone_1(str1,str2):\n",
    "    score = -190\n",
    "    try:\n",
    "        dmeta = fuzzy.DMetaphone()\n",
    "        str1 = str.lower(str1)\n",
    "        str2 = str.lower(str2)\n",
    "        total_length = len(set(str1.split())) + len(set(str2.split()))\n",
    "        L1 = set(str1.split())\n",
    "        L2 = set(str2.split())\n",
    "        exact_match_set = L1.intersection(L2)\n",
    "        exact_match_count = len(exact_match_set)\n",
    "        L1_difference_set = L1.difference(exact_match_set)\n",
    "        L2_difference_set = L2.difference(exact_match_set)\n",
    "        list1 = []\n",
    "        list2 = []\n",
    "        dmeta_count = 0\n",
    "        for item in L1_difference_set:\n",
    "            for element in L2_difference_set:\n",
    "                list1 = list1 + list(filter(None.__ne__, dmeta(item)))\n",
    "                list2 = list2 + list(filter(None.__ne__, dmeta(element)))\n",
    "                s1 = set(list1)\n",
    "                s2 = set(list2)\n",
    "\n",
    "            if len(s1.intersection(s2)) > 0:\n",
    "                if len(s1.intersection(s2)) > 0:\n",
    "                    dmeta_count += 1\n",
    "\n",
    "        denominator = (total_length - (exact_match_count + dmeta_count))\n",
    "        score = (exact_match_count +\n",
    "                 dmeta_count) / (total_length -\n",
    "                                 (exact_match_count + dmeta_count))\n",
    "    except:\n",
    "        pass\n",
    "    return score\n",
    "\n",
    "str1 = \"Johnson and Johnson Company\"\n",
    "str2 = \"Jonson and Jonson company\"\n",
    "dmetaphone_1(str1,str2)"
   ]
  },
  {
   "cell_type": "code",
   "execution_count": 3,
   "metadata": {
    "ExecuteTime": {
     "end_time": "2020-03-11T05:59:12.463087Z",
     "start_time": "2020-03-11T05:59:12.423108Z"
    },
    "code_folding": [
     2
    ],
    "collapsed": true
   },
   "outputs": [
    {
     "name": "stdout",
     "output_type": "stream",
     "text": [
      "____________________________________________________________\n",
      "String1   ::  johnson and johnson company\n",
      "String2   ::  jonson and jonson company\n",
      "____________________________________________________________\n",
      "String1  Length ::  4\n",
      "String2  Length ::  4\n",
      "____________________________________________________________\n",
      "____________________________________________________________\n",
      "Total Length ::  6\n",
      "____________________________________________________________\n",
      "String1  set ::  {'company', 'johnson', 'and'}\n",
      "String2  set ::  {'company', 'jonson', 'and'}\n",
      "____________________________________________________________\n",
      "Exact match set:: {'company', 'and'}\n",
      "____________________________________________________________\n",
      "Post removal exat match set from L1 : {'johnson'}\n",
      "Post removal exat match set from L2 : {'jonson'}\n",
      "____________________________________________________________\n",
      "Exact_Match_Count ::  2\n",
      "Dmeta_Count ::  1\n",
      "____________________________________________________________\n",
      "Denominator ::  3\n",
      "____________________________________________________________\n",
      "Demeta count:: 1\n",
      "____________________________________________________________\n",
      "Score 1.0\n",
      "____________________________________________________________\n",
      "____________________________________________________________\n",
      "String1   ::  jonson and jonson company\n",
      "String2   ::  johnson and johnson company\n",
      "____________________________________________________________\n",
      "String1  Length ::  4\n",
      "String2  Length ::  4\n",
      "____________________________________________________________\n",
      "____________________________________________________________\n",
      "Total Length ::  6\n",
      "____________________________________________________________\n",
      "String1  set ::  {'company', 'jonson', 'and'}\n",
      "String2  set ::  {'company', 'johnson', 'and'}\n",
      "____________________________________________________________\n",
      "Exact match set:: {'company', 'and'}\n",
      "____________________________________________________________\n",
      "Post removal exat match set from L1 : {'jonson'}\n",
      "Post removal exat match set from L2 : {'johnson'}\n",
      "____________________________________________________________\n",
      "Exact_Match_Count ::  2\n",
      "Dmeta_Count ::  1\n",
      "____________________________________________________________\n",
      "Denominator ::  3\n",
      "____________________________________________________________\n",
      "Demeta count:: 1\n",
      "____________________________________________________________\n",
      "Score 1.0\n",
      "____________________________________________________________\n",
      "Score1:: 1.0\n",
      "Score2:: 1.0\n"
     ]
    }
   ],
   "source": [
    "def dmetaphone(str1, str2):\n",
    "    dmeta = fuzzy.DMetaphone()\n",
    "\n",
    "    str1 = str.lower(str1)\n",
    "    str2 = str.lower(str2)\n",
    "\n",
    "    print(\"____________________________________________________________\")\n",
    "    print(\"String1   :: \", str1)\n",
    "    print(\"String2   :: \", str2)\n",
    "    print(\"____________________________________________________________\")\n",
    "    print(\"String1  Length :: \", len(str1.split()))\n",
    "    print(\"String2  Length :: \", len(str2.split()))\n",
    "    print(\"____________________________________________________________\")\n",
    "\n",
    "    total_length = len(set(str1.split())) + len(set(str2.split()))\n",
    "\n",
    "    print(\"____________________________________________________________\")\n",
    "    print(\"Total Length :: \", total_length)\n",
    "\n",
    "    L1 = set(str1.split())\n",
    "    L2 = set(str2.split())\n",
    "\n",
    "    print(\"____________________________________________________________\")\n",
    "    print(\"String1  set :: \", L1)\n",
    "    print(\"String2  set :: \", L2)\n",
    "\n",
    "    exact_match_set = L1.intersection(L2)\n",
    "    exact_match_count = len(exact_match_set)\n",
    "\n",
    "    print(\"____________________________________________________________\")\n",
    "    print(\"Exact match set::\", exact_match_set)\n",
    "\n",
    "    L1_difference_set = L1.difference(exact_match_set)\n",
    "    L2_difference_set = L2.difference(exact_match_set)\n",
    "\n",
    "    print(\"____________________________________________________________\")\n",
    "    print(\"Post removal exat match set from L1 :\", L1_difference_set)\n",
    "    print(\"Post removal exat match set from L2 :\", L2_difference_set)\n",
    "\n",
    "    list1 = []\n",
    "    list2 = []\n",
    "\n",
    "    dmeta_count = 0\n",
    "\n",
    "    for item in L1_difference_set:\n",
    "        for element in L2_difference_set:\n",
    "            list1 = list(filter(None.__ne__, dmeta(item)))\n",
    "            list2 = list(filter(None.__ne__, dmeta(element)))\n",
    "            s1 = set(list1)\n",
    "            s2 = set(list2)\n",
    "\n",
    "            if len(s1.intersection(s2)) > 0:\n",
    "                dmeta_count += 1\n",
    "    print(\"____________________________________________________________\")\n",
    "    print(\"Exact_Match_Count :: \", exact_match_count)\n",
    "    print(\"Dmeta_Count :: \", dmeta_count)\n",
    "\n",
    "    denominator = (total_length - (exact_match_count + dmeta_count))\n",
    "\n",
    "    print(\"____________________________________________________________\")\n",
    "    print(\"Denominator :: \", denominator)\n",
    "    print(\"____________________________________________________________\")\n",
    "    print(\"Demeta count::\", dmeta_count)\n",
    "    score = (exact_match_count +\n",
    "             dmeta_count) / (total_length - (exact_match_count + dmeta_count))\n",
    "    print(\"____________________________________________________________\")\n",
    "    print(\"Score\",score)\n",
    "\n",
    "    return score\n",
    "\n",
    "str1 = \"Johnson and Johnson Company\"\n",
    "str2 = \"Jonson and Jonson company\"\n",
    "\n",
    "# str1 = 'Johnson and Johnson Company'\n",
    "# str2 = 'JoHnson Ltd. company'\n",
    "\n",
    "score1 = dmetaphone(str1, str2)\n",
    "print(\"____________________________________________________________\")\n",
    "score2 = dmetaphone(str2, str1)\n",
    "print(\"____________________________________________________________\")\n",
    "\n",
    "print(\"Score1::\", score1)\n",
    "\n",
    "print(\"Score2::\", score2)"
   ]
  }
 ],
 "metadata": {
  "kernelspec": {
   "display_name": "Python 3",
   "language": "python",
   "name": "python3"
  },
  "language_info": {
   "codemirror_mode": {
    "name": "ipython",
    "version": 3
   },
   "file_extension": ".py",
   "mimetype": "text/x-python",
   "name": "python",
   "nbconvert_exporter": "python",
   "pygments_lexer": "ipython3",
   "version": "3.7.4"
  },
  "toc": {
   "base_numbering": 1,
   "nav_menu": {},
   "number_sections": true,
   "sideBar": true,
   "skip_h1_title": false,
   "title_cell": "Table of Contents",
   "title_sidebar": "Contents",
   "toc_cell": false,
   "toc_position": {},
   "toc_section_display": true,
   "toc_window_display": false
  },
  "varInspector": {
   "cols": {
    "lenName": 16,
    "lenType": 16,
    "lenVar": 40
   },
   "kernels_config": {
    "python": {
     "delete_cmd_postfix": "",
     "delete_cmd_prefix": "del ",
     "library": "var_list.py",
     "varRefreshCmd": "print(var_dic_list())"
    },
    "r": {
     "delete_cmd_postfix": ") ",
     "delete_cmd_prefix": "rm(",
     "library": "var_list.r",
     "varRefreshCmd": "cat(var_dic_list()) "
    }
   },
   "types_to_exclude": [
    "module",
    "function",
    "builtin_function_or_method",
    "instance",
    "_Feature"
   ],
   "window_display": false
  }
 },
 "nbformat": 4,
 "nbformat_minor": 2
}
